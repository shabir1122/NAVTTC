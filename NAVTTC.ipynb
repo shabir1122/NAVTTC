{
  "nbformat": 4,
  "nbformat_minor": 0,
  "metadata": {
    "colab": {
      "name": "NAVTTC.ipynb",
      "provenance": [],
      "authorship_tag": "ABX9TyOsbjkxYNdyHQvnwmJYS1nX",
      "include_colab_link": true
    },
    "kernelspec": {
      "name": "python3",
      "display_name": "Python 3"
    },
    "language_info": {
      "name": "python"
    }
  },
  "cells": [
    {
      "cell_type": "markdown",
      "metadata": {
        "id": "view-in-github",
        "colab_type": "text"
      },
      "source": [
        "<a href=\"https://colab.research.google.com/github/shabir1122/NAVTTC/blob/main/NAVTTC.ipynb\" target=\"_parent\"><img src=\"https://colab.research.google.com/assets/colab-badge.svg\" alt=\"Open In Colab\"/></a>"
      ]
    },
    {
      "cell_type": "code",
      "metadata": {
        "id": "RPbAZBOC_xSZ"
      },
      "source": [
        ""
      ],
      "execution_count": null,
      "outputs": []
    },
    {
      "cell_type": "code",
      "metadata": {
        "id": "fZNqFWE5__cq"
      },
      "source": [
        "import random"
      ],
      "execution_count": null,
      "outputs": []
    },
    {
      "cell_type": "code",
      "metadata": {
        "id": "D56vk-i9AMN2"
      },
      "source": [
        "value= random.randint(1,1000)"
      ],
      "execution_count": null,
      "outputs": []
    },
    {
      "cell_type": "code",
      "metadata": {
        "colab": {
          "base_uri": "https://localhost:8080/"
        },
        "id": "t7roBQ9UAde_",
        "outputId": "99a18556-52bb-4dad-e364-fa0f51371480"
      },
      "source": [
        "value"
      ],
      "execution_count": null,
      "outputs": [
        {
          "output_type": "execute_result",
          "data": {
            "text/plain": [
              "817"
            ]
          },
          "metadata": {
            "tags": []
          },
          "execution_count": 5
        }
      ]
    },
    {
      "cell_type": "code",
      "metadata": {
        "id": "2M6o7KKhAiqb",
        "colab": {
          "base_uri": "https://localhost:8080/"
        },
        "outputId": "38a289b7-a637-483b-87fa-c9a284ea91ec"
      },
      "source": [
        "a= input(\"Enter a value = \")\n",
        "if a==250:\n",
        "  print(\"Equal to 250\")\n",
        "else:\n",
        "  print(\"Not equal to 250\")"
      ],
      "execution_count": 4,
      "outputs": [
        {
          "output_type": "stream",
          "text": [
            "Enter a value = 250\n",
            "Not equal to 250\n"
          ],
          "name": "stdout"
        }
      ]
    },
    {
      "cell_type": "code",
      "metadata": {
        "id": "7fzrfJkdPnes"
      },
      "source": [
        ""
      ],
      "execution_count": null,
      "outputs": []
    }
  ]
}